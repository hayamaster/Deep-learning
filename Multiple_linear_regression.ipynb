{
  "nbformat": 4,
  "nbformat_minor": 0,
  "metadata": {
    "colab": {
      "name": "Multiple_linear_regression.ipynb",
      "provenance": [],
      "collapsed_sections": [],
      "authorship_tag": "ABX9TyNATPO9D9bFX25mrRMzEJuF",
      "include_colab_link": true
    },
    "kernelspec": {
      "name": "python3",
      "display_name": "Python 3"
    },
    "language_info": {
      "name": "python"
    }
  },
  "cells": [
    {
      "cell_type": "markdown",
      "metadata": {
        "id": "view-in-github",
        "colab_type": "text"
      },
      "source": [
        "<a href=\"https://colab.research.google.com/github/hayamaster/Deep-learning/blob/main/Multiple_linear_regression.ipynb\" target=\"_parent\"><img src=\"https://colab.research.google.com/assets/colab-badge.svg\" alt=\"Open In Colab\"/></a>"
      ]
    },
    {
      "cell_type": "code",
      "execution_count": 1,
      "metadata": {
        "colab": {
          "base_uri": "https://localhost:8080/"
        },
        "id": "M2VOmTRhRral",
        "outputId": "b72f9139-e2ef-4969-9f35-b480c0fa2e75"
      },
      "outputs": [
        {
          "output_type": "stream",
          "name": "stdout",
          "text": [
            "torch.Size([9, 4])\n",
            "torch.Size([9, 1])\n",
            "epoch:0 cost:6751.555664\n",
            "epoch:500 cost:53.148594\n",
            "epoch:1000 cost:14.346459\n",
            "epoch:1500 cost:6.341108\n",
            "epoch:2000 cost:4.187709\n",
            "epoch:2500 cost:3.365207\n",
            "epoch:3000 cost:2.960615\n",
            "epoch:3500 cost:2.737879\n",
            "epoch:4000 cost:2.610429\n",
            "epoch:4500 cost:2.536614\n",
            "epoch:5000 cost:2.493695\n",
            "epoch:5500 cost:2.468705\n",
            "epoch:6000 cost:2.454122\n",
            "epoch:6500 cost:2.445617\n",
            "epoch:7000 cost:2.440621\n",
            "epoch:7500 cost:2.437689\n",
            "epoch:8000 cost:2.435951\n",
            "epoch:8500 cost:2.434896\n",
            "epoch:9000 cost:2.434253\n",
            "epoch:9500 cost:2.433857\n",
            "tensor([[0.0116],\n",
            "        [0.0442],\n",
            "        [0.4116],\n",
            "        [0.4144]], requires_grad=True)\n",
            "tensor([0.0038], requires_grad=True)\n",
            "The average score of student A is 97.492844\n"
          ]
        }
      ],
      "source": [
        "import numpy as np\n",
        "import matplotlib.pyplot as plt\n",
        "import torch\n",
        "import torch.nn as nn\n",
        "import torch.nn.init as init\n",
        "import torch.optim as optim\n",
        "x_data = [[3.8, 700, 80, 50], [3.2, 650, 90, 30],\n",
        "[3.7, 820,70, 40], [4.2, 830, 50, 70], [2.6, 550, 90, 60],\n",
        "[3.4, 910, 30, 40], [4.1, 990, 70, 20], [3.3, 870, 60, 60], [3.9, 650, 80,50]]\n",
        "y_data = [[85], [80], [78], [87], [85], [70], [81],[88], [84]]\n",
        "x_train = torch.FloatTensor(x_data)\n",
        "y_train = torch.FloatTensor(y_data)\n",
        "print(x_train.shape)\n",
        "print(y_train.shape)\n",
        "W = torch.zeros((4,1), requires_grad=True)\n",
        "b = torch.zeros(1, requires_grad=True)\n",
        "optimizer=optim.SGD([W,b],lr=0.000001)\n",
        "for epoch in range(10000):\n",
        "  optimizer.zero_grad()\n",
        "  hypothesis = x_train.matmul(W)+b\n",
        "  cost = torch.mean((hypothesis - y_train)**2)\n",
        "  cost.backward()\n",
        "  optimizer.step()\n",
        "  if epoch % 500 ==0:\n",
        "    print('epoch:%d cost:%f'%(epoch, cost))\n",
        "    \n",
        "print(W)\n",
        "print(b)\n",
        "A_data = torch.FloatTensor([[3.3,700,77,84]])\n",
        "predict = A_data.matmul(W)+b\n",
        "pred_val = predict.squeeze().detach().numpy() \n",
        "print(\"The average score of student A is %f\"%pred_val)"
      ]
    },
    {
      "cell_type": "code",
      "source": [
        ""
      ],
      "metadata": {
        "id": "vJ_rIB7GVEaO"
      },
      "execution_count": null,
      "outputs": []
    }
  ]
}